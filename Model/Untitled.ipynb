{
 "cells": [
  {
   "cell_type": "code",
   "execution_count": 18,
   "metadata": {},
   "outputs": [],
   "source": [
    "import pandas as pd\n",
    "from numpy.random import seed\n",
    "from numpy.random import randn\n",
    "from scipy.stats import normaltest\n",
    "from scipy.stats import shapiro"
   ]
  },
  {
   "cell_type": "code",
   "execution_count": 3,
   "metadata": {},
   "outputs": [],
   "source": [
    "#stats to look at\n",
    "\n",
    "per_stats = ['Min_per', 'ORB_per', 'DRB_per', 'AST_per', 'TO_per', 'FT_per', '2P_per', '3P_per', \n",
    "             'blk_per', 'stl_per', 'GP', 'ht_in', 'yr_cat',  'ATH', 'BBIQ']\n",
    "box_stats = ['GP', 'mp', 'pts', '2PA_pg', '2PM_pg', '3PA_pg', '3PM_pg','oreb', 'dreb', 'treb',\n",
    "             'ast', 'stl', 'blk', 'ht_in', 'yr_cat', 'FTA', 'FTM', 'ftr',  'ATH', 'BBIQ']\n",
    "adv_stats = ['GP', 'mp', 'pts', '2PA_pg', '2PM_pg', '3PA_pg', '3PM_pg', 'oreb', 'dreb', 'treb',\n",
    "             'ast', 'stl', 'blk', 'ht_in', 'yr_cat', 'bpm', 'obpm', 'dbpm', 'FTA', 'FTM', 'ftr' ,'ATH', 'BBIQ']\n",
    "\n",
    "per_adv = ['Min_per', 'ORB_per', 'DRB_per', 'AST_per', 'TO_per', 'FT_per', '2P_per', '3P_per', \n",
    "             'blk_per', 'stl_per', 'GP', 'ht_in', 'yr_cat', 'bpm', 'obpm', 'dbpm', 'ATH', 'BBIQ']\n",
    "\n",
    "all_stats = ['GP', 'Min_per', 'ORtg', 'usg',\n",
    "       'eFG', 'TS_per', 'ORB_per', 'DRB_per', 'AST_per', 'TO_per', 'FTM',\n",
    "       'FTA', 'FT_per', '2PM', '2PA', '2P_per', '3PM', '3PA', '3P_per',\n",
    "       'blk_per', 'stl_per', 'ftr', 'porpag', 'adjoe',\n",
    "       'pfr','year', 'rec-rk', 'ast/tov', \n",
    "       'drtg', 'adrtg', 'dporpag', 'stops', 'bpm', 'obpm', 'dbpm', 'gbpm',\n",
    "       'mp', 'ogbpm', 'dgbpm', 'oreb', 'dreb', 'treb', 'ast', 'stl', 'blk',\n",
    "       'pts', '2PA_pg', '2PM_pg', '3PA_pg', '3PM_pg', 'yr_cat', 'ht_in']"
   ]
  },
  {
   "cell_type": "code",
   "execution_count": 4,
   "metadata": {},
   "outputs": [],
   "source": [
    "train = pd.read_csv('train.csv', index_col=0)\n",
    "test = pd.read_csv('test.csv', index_col=0)\n",
    "df = pd.concat([train, test])\n",
    "df = df.dropna(axis=0, subset=adv_stats)"
   ]
  },
  {
   "cell_type": "code",
   "execution_count": 23,
   "metadata": {},
   "outputs": [],
   "source": [
    "data = 5 * randn(10000) + 50"
   ]
  },
  {
   "cell_type": "code",
   "execution_count": 24,
   "metadata": {},
   "outputs": [
    {
     "name": "stdout",
     "output_type": "stream",
     "text": [
      "NormaltestResult(statistic=5389.8127552256865, pvalue=0.0)\n",
      "NormaltestResult(statistic=78692.70083464813, pvalue=0.0)\n",
      "NormaltestResult(statistic=4373.713551908541, pvalue=0.0)\n",
      "NormaltestResult(statistic=6067.489177783065, pvalue=0.0)\n",
      "NormaltestResult(statistic=7862.526023719327, pvalue=0.0)\n",
      "NormaltestResult(statistic=8854.817298159765, pvalue=0.0)\n",
      "NormaltestResult(statistic=11220.415071258149, pvalue=0.0)\n",
      "NormaltestResult(statistic=11391.712629852704, pvalue=0.0)\n",
      "NormaltestResult(statistic=6111.154874996922, pvalue=0.0)\n",
      "NormaltestResult(statistic=6781.130471219777, pvalue=0.0)\n",
      "NormaltestResult(statistic=15929.240930080217, pvalue=0.0)\n",
      "NormaltestResult(statistic=8821.534017285323, pvalue=0.0)\n",
      "NormaltestResult(statistic=30254.118624759954, pvalue=0.0)\n",
      "NormaltestResult(statistic=513.2886715228898, pvalue=3.473610885398317e-112)\n",
      "NormaltestResult(statistic=2382033.992052734, pvalue=0.0)\n",
      "NormaltestResult(statistic=93574.280395683, pvalue=0.0)\n",
      "NormaltestResult(statistic=16474.50427559648, pvalue=0.0)\n",
      "NormaltestResult(statistic=137213.5160309257, pvalue=0.0)\n",
      "NormaltestResult(statistic=10395.170230174608, pvalue=0.0)\n",
      "NormaltestResult(statistic=12889.840040912522, pvalue=0.0)\n",
      "NormaltestResult(statistic=52835.12826274831, pvalue=0.0)\n",
      "NormaltestResult(statistic=796649.2551916859, pvalue=0.0)\n",
      "NormaltestResult(statistic=55123.94376694138, pvalue=0.0)\n"
     ]
    }
   ],
   "source": [
    "for i in adv_stats:\n",
    "    print(normaltest(df[i]))"
   ]
  },
  {
   "cell_type": "code",
   "execution_count": 22,
   "metadata": {},
   "outputs": [
    {
     "name": "stdout",
     "output_type": "stream",
     "text": [
      "(0.9860177040100098, 0.3750227391719818)\n"
     ]
    }
   ],
   "source": [
    "print(shapiro(data))"
   ]
  },
  {
   "cell_type": "code",
   "execution_count": 8,
   "metadata": {},
   "outputs": [
    {
     "data": {
      "text/plain": [
       "(0.9416511654853821, 0.0)"
      ]
     },
     "execution_count": 8,
     "metadata": {},
     "output_type": "execute_result"
    }
   ],
   "source": [
    "shapiro(df['BBIQ'])"
   ]
  },
  {
   "cell_type": "code",
   "execution_count": null,
   "metadata": {},
   "outputs": [],
   "source": []
  }
 ],
 "metadata": {
  "kernelspec": {
   "display_name": "Python 3",
   "language": "python",
   "name": "python3"
  },
  "language_info": {
   "codemirror_mode": {
    "name": "ipython",
    "version": 3
   },
   "file_extension": ".py",
   "mimetype": "text/x-python",
   "name": "python",
   "nbconvert_exporter": "python",
   "pygments_lexer": "ipython3",
   "version": "3.7.7"
  }
 },
 "nbformat": 4,
 "nbformat_minor": 4
}
