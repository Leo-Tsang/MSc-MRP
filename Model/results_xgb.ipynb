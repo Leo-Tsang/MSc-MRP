{
 "cells": [
  {
   "cell_type": "code",
   "execution_count": 1,
   "metadata": {},
   "outputs": [],
   "source": [
    "###Logistic Regression & RForests\n",
    "\n",
    "from collections import Counter\n",
    "import pandas as pd\n",
    "import numpy as np\n",
    "\n",
    "#Handle Imbalance Data\n",
    "import imblearn\n",
    "from imblearn.over_sampling import SMOTE\n",
    "from imblearn.under_sampling import RandomUnderSampler\n",
    "from imblearn.pipeline import Pipeline\n",
    "\n",
    "import smote_variants as sv\n",
    "\n",
    "#ML ALgorithims\n",
    "from matplotlib import pyplot\n",
    "from sklearn.linear_model import LogisticRegression\n",
    "from sklearn.ensemble import RandomForestClassifier\n",
    "from sklearn.metrics import accuracy_score, recall_score, precision_score, f1_score\n",
    "from sklearn.model_selection import GridSearchCV\n",
    "from xgboost import XGBClassifier, plot_importance"
   ]
  },
  {
   "cell_type": "code",
   "execution_count": 148,
   "metadata": {},
   "outputs": [
    {
     "name": "stderr",
     "output_type": "stream",
     "text": [
      "/Users/leotsang/opt/anaconda3/lib/python3.7/site-packages/IPython/core/interactiveshell.py:3063: DtypeWarning: Columns (28) have mixed types.Specify dtype option on import or set low_memory=False.\n",
      "  interactivity=interactivity, compiler=compiler, result=result)\n"
     ]
    }
   ],
   "source": [
    "#Reading our data\n",
    "\n",
    "train = pd.read_csv('train.csv', index_col=0)\n",
    "test = pd.read_csv('test.csv', index_col=0)\n",
    "df = pd.concat([train, test])\n",
    "df_eval = pd.read_csv('pred.csv', index_col=0)"
   ]
  },
  {
   "cell_type": "code",
   "execution_count": 7,
   "metadata": {},
   "outputs": [],
   "source": [
    "df = df.dropna(axis=0, subset=adv_stats)"
   ]
  },
  {
   "cell_type": "code",
   "execution_count": 6,
   "metadata": {},
   "outputs": [
    {
     "data": {
      "text/plain": [
       "Index(['player_name', 'school', 'conference', 'GP', 'Min_per', 'ORtg', 'usg',\n",
       "       'eFG', 'TS_per', 'ORB_per', 'DRB_per', 'AST_per', 'TO_per', 'FTM',\n",
       "       'FTA', 'FT_per', '2PM', '2PA', '2P_per', '3PM', '3PA', '3P_per',\n",
       "       'blk_per', 'stl_per', 'ftr', 'yr', 'ht', 'num', 'porpag', 'adjoe',\n",
       "       'pfr', 'year', 'pid', 'type', 'rec-rk', 'ast/tov', 'rimmade',\n",
       "       'rimmade + rimmiss', 'midmade', 'midmade + midmiss',\n",
       "       'rimmade/(rimmade+rimmiss)', 'midmade/(midmade+mismiss)', 'dunksmade',\n",
       "       'dunksmiss + dunksmade', 'dunksmade/(dunksmade+dunksmiss)', 'pick',\n",
       "       'drtg', 'adrtg', 'dporpag', 'stops', 'bpm', 'obpm', 'dbpm', 'gbpm',\n",
       "       'mp', 'ogbpm', 'dgbpm', 'oreb', 'dreb', 'treb', 'ast', 'stl', 'blk',\n",
       "       'pts', 'pos', '2PA_pg', '2PM_pg', '3PA_pg', '3PM_pg', 'ht_in',\n",
       "       'drafted', 'yr_cat', 'ATH', 'GP_adj', 'BBIQ'],\n",
       "      dtype='object')"
      ]
     },
     "execution_count": 6,
     "metadata": {},
     "output_type": "execute_result"
    }
   ],
   "source": [
    "train.columns"
   ]
  },
  {
   "cell_type": "code",
   "execution_count": 5,
   "metadata": {},
   "outputs": [],
   "source": [
    "#stats to look at\n",
    "\n",
    "per_stats = ['Min_per', 'ORB_per', 'DRB_per', 'AST_per', 'TO_per', 'FT_per', '2P_per', '3P_per', \n",
    "             'blk_per', 'stl_per', 'GP', 'ht_in', 'yr_cat',  'ATH', 'BBIQ']\n",
    "box_stats = ['GP', 'mp', 'pts', '2PA_pg', '2PM_pg', '3PA_pg', '3PM_pg','oreb', 'dreb', 'treb',\n",
    "             'ast', 'stl', 'blk', 'ht_in', 'yr_cat', 'FTA', 'FTM', 'ftr',  'ATH', 'BBIQ']\n",
    "adv_stats = ['GP', 'mp', 'pts', '2PA_pg', '2PM_pg', '3PA_pg', '3PM_pg', 'oreb', 'dreb', 'treb',\n",
    "             'ast', 'stl', 'blk', 'ht_in', 'yr_cat', 'bpm', 'obpm', 'dbpm', 'FTA', 'FTM', 'ftr' ,'ATH', 'BBIQ']\n",
    "\n",
    "per_adv = ['Min_per', 'ORB_per', 'DRB_per', 'AST_per', 'TO_per', 'FT_per', '2P_per', '3P_per', \n",
    "             'blk_per', 'stl_per', 'GP', 'ht_in', 'yr_cat', 'bpm', 'obpm', 'dbpm', 'ATH', 'BBIQ']\n",
    "\n",
    "all_stats = ['GP', 'Min_per', 'ORtg', 'usg',\n",
    "       'eFG', 'TS_per', 'ORB_per', 'DRB_per', 'AST_per', 'TO_per', 'FTM',\n",
    "       'FTA', 'FT_per', '2PM', '2PA', '2P_per', '3PM', '3PA', '3P_per',\n",
    "       'blk_per', 'stl_per', 'ftr', 'porpag', 'adjoe',\n",
    "       'pfr','year', 'rec-rk', 'ast/tov', \n",
    "       'drtg', 'adrtg', 'dporpag', 'stops', 'bpm', 'obpm', 'dbpm', 'gbpm',\n",
    "       'mp', 'ogbpm', 'dgbpm', 'oreb', 'dreb', 'treb', 'ast', 'stl', 'blk',\n",
    "       'pts', '2PA_pg', '2PM_pg', '3PA_pg', '3PM_pg', 'yr_cat', 'ht_in']"
   ]
  },
  {
   "cell_type": "code",
   "execution_count": 8,
   "metadata": {},
   "outputs": [],
   "source": [
    "adv_stats = ['GP', 'mp', 'pts', '2PA_pg', '2PM_pg', '3PA_pg', '3PM_pg', 'oreb', 'dreb', 'treb',\n",
    "             'ast', 'stl', 'blk', 'ht_in', 'yr_cat', 'bpm', 'obpm', 'dbpm', 'FTA', 'FTM', 'ftr' ,'ATH', 'BBIQ']\n",
    "\n",
    "adv_stats2 = ['GP', 'mp', 'pts', '2PA_pg', '2PM_pg', '3PA_pg', '3PM_pg', 'oreb', 'dreb', 'treb', 'ftr',\n",
    "             'ast', 'stl', 'blk', 'ht_in', 'yr_cat', 'bpm', 'obpm', 'dbpm', 'FTA', 'FTM','ATH']\n",
    "\n",
    "adv_stats3 = ['GP', 'mp', 'pts', '2PA_pg', '2PM_pg', '3PA_pg', '3PM_pg', 'oreb', 'treb', 'ftr',\n",
    "             'ast', 'stl', 'blk', 'ht_in', 'yr_cat', 'bpm', 'obpm', 'dbpm', 'FTA', 'FTM','ATH']\n",
    "\n",
    "adv_stats4 = ['GP', 'mp', 'pts', '2PA_pg', '2PM_pg', '3PA_pg', '3PM_pg', 'oreb', 'treb', 'ftr',\n",
    "             'ast', 'stl', 'blk', 'ht_in', 'yr_cat', 'bpm', 'obpm', 'FTA', 'FTM','ATH']\n",
    "\n",
    "adv_stats5 = ['GP', 'mp', 'pts', '2PA_pg', '2PM_pg', '3PM_pg', 'oreb', 'treb', 'ftr',\n",
    "             'ast', 'stl', 'blk', 'ht_in', 'yr_cat', 'bpm', 'obpm', 'FTA', 'FTM','ATH']\n",
    "\n",
    "tests = [adv_stats, adv_stats2, adv_stats3, adv_stats4, adv_stats5]"
   ]
  },
  {
   "cell_type": "code",
   "execution_count": 9,
   "metadata": {},
   "outputs": [],
   "source": [
    "#delete all missing values\n",
    "train = train.dropna(axis=0, subset=per_stats)\n",
    "train = train.dropna(axis=0, subset=box_stats)\n",
    "train = train.dropna(axis=0, subset=adv_stats)\n",
    "\n",
    "#delete mssing value in test set as well\n",
    "\n",
    "test = test.dropna(axis=0, subset=per_stats)\n",
    "test = test.dropna(axis=0, subset=box_stats)\n",
    "test = test.dropna(axis=0, subset=adv_stats)"
   ]
  },
  {
   "cell_type": "code",
   "execution_count": 10,
   "metadata": {},
   "outputs": [],
   "source": [
    "#set our 2 test-set aside\n",
    "test_2018 = test[test['year']==2018]\n",
    "test_2019 = test[test['year']==2019]"
   ]
  },
  {
   "cell_type": "code",
   "execution_count": 11,
   "metadata": {},
   "outputs": [],
   "source": [
    "train_3 = pd.concat([train, test_2018])\n",
    "train3 = train_3[(train_3['bpm']>= -0.6) & (train_3['pts']>= 3) & (train_3['ht_in']>= 72)] "
   ]
  },
  {
   "cell_type": "code",
   "execution_count": null,
   "metadata": {},
   "outputs": [],
   "source": [
    "#grid search cv\n",
    "estimator = XGBClassifier(\n",
    "    objective= 'binary:logistic',\n",
    "    nthread=4,\n",
    "    seed=42\n",
    ")\n",
    "\n",
    "parameters = {\n",
    "    'max_depth': range (2, 10, 1),\n",
    "    'n_estimators': range(60, 220, 40),\n",
    "    'learning_rate': [0.1, 0.01, 0.05]\n",
    "}\n",
    "\n",
    "\n",
    "\n",
    "grid_search = GridSearchCV(\n",
    "    estimator=estimator,\n",
    "    param_grid=parameters,\n",
    "    scoring = 'f1',\n",
    "    n_jobs = 10,\n",
    "    cv = 10,\n",
    "    verbose=True\n",
    ")\n",
    "\n",
    "grid_search.fit(train3[adv_stats], train3['drafted'])"
   ]
  },
  {
   "cell_type": "code",
   "execution_count": 260,
   "metadata": {},
   "outputs": [
    {
     "name": "stdout",
     "output_type": "stream",
     "text": [
      "GridSearchCV(cv=10, estimator=XGBClassifier(nthread=4, seed=42), n_jobs=10,\n",
      "             param_grid={'learning_rate': [0.1, 0.01, 0.05],\n",
      "                         'max_depth': range(2, 10),\n",
      "                         'n_estimators': range(60, 220, 40)},\n",
      "             scoring='f1', verbose=True)\n",
      "0.5557360754196373\n",
      "{'learning_rate': 0.1, 'max_depth': 8, 'n_estimators': 180}\n"
     ]
    }
   ],
   "source": [
    "print(grid_search)\n",
    "# summarize the results of the grid search\n",
    "print(grid_search.best_score_)\n",
    "print(grid_search.best_params_)"
   ]
  },
  {
   "cell_type": "code",
   "execution_count": 254,
   "metadata": {},
   "outputs": [
    {
     "name": "stdout",
     "output_type": "stream",
     "text": [
      "F1: 0.4742268041237114 recall: 0.45098039215686275 precision: 0.5 predictions: 46.0\n",
      "F1: 0.495049504950495 recall: 0.49019607843137253 precision: 0.5 predictions: 50.0\n",
      "F1: 0.4807692307692308 recall: 0.49019607843137253 precision: 0.4716981132075472 predictions: 53.0\n",
      "F1: 0.4464285714285714 recall: 0.49019607843137253 precision: 0.4098360655737705 predictions: 61.0\n",
      "F1: 0.46666666666666673 recall: 0.5490196078431373 precision: 0.4057971014492754 predictions: 69.0\n"
     ]
    }
   ],
   "source": [
    "samples = [0.1, 0.125, 0.15, 0.175, 0.2]\n",
    "\n",
    "for i in samples:\n",
    "\n",
    "    model = XGBClassifier()\n",
    "    over = SMOTE(sampling_strategy=i)\n",
    "    under = RandomUnderSampler(sampling_strategy=i)\n",
    "    steps = [('o', over), ('u', under)]\n",
    "    pipeline = Pipeline(steps=steps)\n",
    "    X, y = pipeline.fit_resample(train_3[adv_stats], train_3['drafted'])\n",
    "    model.fit(X, y)\n",
    "    y_pred = model.predict_proba(test_2019[adv_stats])\n",
    "\n",
    "    predictions = [np.round(value[1]) for value in y_pred]\n",
    "\n",
    "    #roc_auc = roc_auc_score(test_2019['drafted'], predictions)\n",
    "    f1 = f1_score(test_2019['drafted'], predictions)\n",
    "    recall = recall_score(test_2019['drafted'], predictions)\n",
    "    precision = precision_score(test_2019['drafted'], predictions)\n",
    "    print('F1: {} recall: {} precision: {} predictions: {}'.format(f1, recall, precision, sum(predictions)))\n",
    "    #plot_importance(model)\n"
   ]
  },
  {
   "cell_type": "code",
   "execution_count": 219,
   "metadata": {},
   "outputs": [],
   "source": [
    "prob = []\n",
    "\n",
    "for i in range(0,len(test_2019)):\n",
    "    prob.append(y_pred[i][1])"
   ]
  },
  {
   "cell_type": "code",
   "execution_count": 220,
   "metadata": {},
   "outputs": [],
   "source": [
    "test_2019['pred_prob'] = prob\n",
    "test_2019['draft_pred'] = predictions"
   ]
  },
  {
   "cell_type": "code",
   "execution_count": 13,
   "metadata": {},
   "outputs": [],
   "source": [
    "adv_stats_res = ['player_name', 'year','GP', 'mp', 'pts', '2PA_pg', '2PM_pg', '3PA_pg', '3PM_pg', 'oreb', 'dreb', 'treb',\n",
    "             'ast', 'stl', 'blk', 'ht_in', 'yr_cat', 'bpm', 'obpm', 'dbpm', 'FTA', 'FTM', 'ftr' ,'ATH', 'BBIQ', 'pick', 'drafted', 'draft_pred','pred_prob']\n"
   ]
  },
  {
   "cell_type": "code",
   "execution_count": 222,
   "metadata": {},
   "outputs": [],
   "source": [
    "res_table = test_2019[adv_stats_res].sort_values('pred_prob', ascending=False)"
   ]
  },
  {
   "cell_type": "code",
   "execution_count": 223,
   "metadata": {},
   "outputs": [],
   "source": [
    "res_res = res_table[(res_table['pred_prob']>= 0.5) | (res_table['pick']> 0)]"
   ]
  },
  {
   "cell_type": "code",
   "execution_count": 224,
   "metadata": {},
   "outputs": [],
   "source": [
    "res_res.to_excel('results_xgb.xlsx', index=True)"
   ]
  },
  {
   "cell_type": "code",
   "execution_count": 19,
   "metadata": {},
   "outputs": [
    {
     "name": "stdout",
     "output_type": "stream",
     "text": [
      "F1: 0.41860465116279066 recall: 0.35294117647058826 precision: 0.5142857142857142 predictions: 35.0\n"
     ]
    },
    {
     "data": {
      "text/plain": [
       "\"\\nprob = []\\n\\nfor i in range(0,len(test_2018)):\\n    prob.append(y_pred[i][1])\\n\\ntest_2019['pred_prob'] = prob\\ntest_2019['draft_pred'] = predictions\\n\\nres_table = test_2019[adv_stats_res].sort_values('pred_prob', ascending=False)\\nres_res = res_table[(res_table['pred_prob']>= 0.5) | (res_table['pick']> 0)]\\nres_res.to_excel('results_xgb_2019.xlsx', index=True)\""
      ]
     },
     "execution_count": 19,
     "metadata": {},
     "output_type": "execute_result"
    },
    {
     "data": {
      "image/png": "[encoded data removed]",
      "text/plain": [
       "<Figure size 432x288 with 1 Axes>"
      ]
     },
     "metadata": {
      "needs_background": "light"
     },
     "output_type": "display_data"
    }
   ],
   "source": [
    "model = XGBClassifier(max_depth=8, learning_rate=0.1, n_estimators=180)\n",
    "over = SMOTE(sampling_strategy=0.125)\n",
    "under = RandomUnderSampler(sampling_strategy=0.125)\n",
    "steps = [('o', over), ('u', under)]\n",
    "pipeline = Pipeline(steps=steps)\n",
    "X, y = pipeline.fit_resample(train_3[adv_stats], train_3['drafted'])\n",
    "model.fit(X, y)\n",
    "y_pred = model.predict_proba(test_2019[adv_stats])\n",
    "\n",
    "predictions = [np.round(value[1]) for value in y_pred]\n",
    "\n",
    "#roc_auc = roc_auc_score(test_2019['drafted'], predictions)\n",
    "f1 = f1_score(test_2019['drafted'], predictions)\n",
    "recall = recall_score(test_2019['drafted'], predictions)\n",
    "precision = precision_score(test_2019['drafted'], predictions)\n",
    "print('F1: {} recall: {} precision: {} predictions: {}'.format(f1, recall, precision, sum(predictions)))\n",
    "plot_importance(model)\n",
    "\n",
    "\n",
    "'''\n",
    "prob = []\n",
    "\n",
    "for i in range(0,len(test_2018)):\n",
    "    prob.append(y_pred[i][1])\n",
    "\n",
    "test_2019['pred_prob'] = prob\n",
    "test_2019['draft_pred'] = predictions\n",
    "\n",
    "res_table = test_2019[adv_stats_res].sort_values('pred_prob', ascending=False)\n",
    "res_res = res_table[(res_table['pred_prob']>= 0.5) | (res_table['pick']> 0)]\n",
    "res_res.to_excel('results_xgb_2019.xlsx', index=True)'''\n",
    "\n"
   ]
  },
  {
   "cell_type": "code",
   "execution_count": 21,
   "metadata": {},
   "outputs": [
    {
     "name": "stdout",
     "output_type": "stream",
     "text": [
      "year 2011\n",
      "F1: 0.5909090909090909 recall: 0.5652173913043478 precision: 0.6190476190476191 predictions: 42.0\n",
      "year 2010\n",
      "F1: 0.42718446601941745 recall: 0.41509433962264153 precision: 0.44 predictions: 50.0\n",
      "year 2012\n",
      "F1: 0.45833333333333337 recall: 0.41509433962264153 precision: 0.5116279069767442 predictions: 43.0\n",
      "year 2013\n",
      "F1: 0.46913580246913583 recall: 0.41304347826086957 precision: 0.5428571428571428 predictions: 35.0\n",
      "year 2014\n",
      "F1: 0.4444444444444445 recall: 0.4 precision: 0.5 predictions: 36.0\n",
      "year 2015\n",
      "F1: 0.4578313253012048 recall: 0.3877551020408163 precision: 0.5588235294117647 predictions: 34.0\n",
      "year 2016\n",
      "F1: 0.39560439560439564 recall: 0.3829787234042553 precision: 0.4090909090909091 predictions: 44.0\n",
      "year 2017\n",
      "F1: 0.5490196078431373 recall: 0.5490196078431373 precision: 0.5490196078431373 predictions: 51.0\n",
      "year 2018\n",
      "F1: 0.4565217391304348 recall: 0.39622641509433965 precision: 0.5384615384615384 predictions: 39.0\n",
      "year 2019\n",
      "F1: 0.49484536082474223 recall: 0.47058823529411764 precision: 0.5217391304347826 predictions: 46.0\n"
     ]
    }
   ],
   "source": [
    "#K-Fold Cross Validation\n",
    "\n",
    "years = [2011, 2010, 2012, 2013, 2014, 2015, 2016, 2017, 2018, 2019]\n",
    "\n",
    "for i in years:\n",
    "    \n",
    "    print('year {}'.format(i))\n",
    "    df_train = df[df['year']!=i]\n",
    "    train = df_train[(df_train['bpm']>= -0.6) & (df_train['pts']>= 3) & (df_train['ht_in']>= 72)] \n",
    "    test = df[df['year']==i]\n",
    "    \n",
    "    model = XGBClassifier()\n",
    "    over = SMOTE(sampling_strategy=0.125)\n",
    "    under = RandomUnderSampler(sampling_strategy=0.125)\n",
    "    steps = [('o', over), ('u', under)]\n",
    "    pipeline = Pipeline(steps=steps)\n",
    "    X, y = pipeline.fit_resample(train[adv_stats], train['drafted'])\n",
    "    model.fit(X, y)\n",
    "    y_pred = model.predict_proba(test[adv_stats])\n",
    "\n",
    "    predictions = [np.round(value[1]) for value in y_pred]\n",
    "\n",
    "    #roc_auc = roc_auc_score(test_2019['drafted'], predictions)\n",
    "    f1 = f1_score(test['drafted'], predictions)\n",
    "    recall = recall_score(test['drafted'], predictions)\n",
    "    precision = precision_score(test['drafted'], predictions)\n",
    "    print('F1: {} recall: {} precision: {} predictions: {}'.format(f1, recall, precision, sum(predictions)))\n",
    "    #plot_importance(model)\n"
   ]
  },
  {
   "cell_type": "code",
   "execution_count": 77,
   "metadata": {},
   "outputs": [
    {
     "name": "stdout",
     "output_type": "stream",
     "text": [
      "year 2011\n",
      "F1: 0.42666666666666664 recall: 0.34782608695652173 precision: 0.5517241379310345 predictions: 29.0\n",
      "year 2010\n",
      "F1: 0.4835164835164836 recall: 0.41509433962264153 precision: 0.5789473684210527 predictions: 38.0\n",
      "year 2012\n",
      "F1: 0.375 recall: 0.2830188679245283 precision: 0.5555555555555556 predictions: 27.0\n",
      "year 2013\n",
      "F1: 0.5185185185185185 recall: 0.45652173913043476 precision: 0.6 predictions: 35.0\n",
      "year 2014\n",
      "F1: 0.41558441558441556 recall: 0.35555555555555557 precision: 0.5 predictions: 32.0\n",
      "year 2015\n",
      "F1: 0.425 recall: 0.3469387755102041 precision: 0.5483870967741935 predictions: 31.0\n",
      "year 2016\n",
      "F1: 0.46341463414634143 recall: 0.40425531914893614 precision: 0.5428571428571428 predictions: 35.0\n",
      "year 2017\n",
      "F1: 0.4395604395604396 recall: 0.39215686274509803 precision: 0.5 predictions: 40.0\n",
      "year 2018\n",
      "F1: 0.32911392405063294 recall: 0.24528301886792453 precision: 0.5 predictions: 26.0\n",
      "year 2019\n",
      "F1: 0.4545454545454546 recall: 0.39215686274509803 precision: 0.5405405405405406 predictions: 37.0\n"
     ]
    }
   ],
   "source": [
    "#K-Fold Cross Validation\n",
    "\n",
    "years = [2011, 2010, 2012, 2013, 2014, 2015, 2016, 2017, 2018, 2019]\n",
    "pred_prob = []\n",
    "result_f1 = []\n",
    "result_recall = []\n",
    "result_precision = []\n",
    "\n",
    "for i in years:\n",
    "    \n",
    "    print('year {}'.format(i))\n",
    "    df_train = df[df['year']!=i]\n",
    "    train = df_train[(df_train['bpm']>= -0.6) & (df_train['pts']>= 3) & (df_train['ht_in']>= 72)] \n",
    "    test = df[df['year']==i]\n",
    "    \n",
    "    model = XGBClassifier(max_depth=8, learning_rate=0.1, n_estimators=180)\n",
    "    over = SMOTE(sampling_strategy=0.2)\n",
    "    under = RandomUnderSampler(sampling_strategy=0.2)\n",
    "    steps = [('o', over), ('u', under)]\n",
    "    pipeline = Pipeline(steps=steps)\n",
    "    X, y = pipeline.fit_resample(train[adv_stats], train['drafted'])\n",
    "    model.fit(X, y)\n",
    "    y_pred = model.predict_proba(test[adv_stats])\n",
    "    pred_prob.append(y_pred)\n",
    "\n",
    "    predictions = [np.round(value[1]) for value in y_pred]\n",
    "\n",
    "    #roc_auc = roc_auc_score(test_2019['drafted'], predictions)\n",
    "    f1 = f1_score(test['drafted'], predictions)\n",
    "    recall = recall_score(test['drafted'], predictions)\n",
    "    precision = precision_score(test['drafted'], predictions)\n",
    "    result_f1.append(f1)\n",
    "    result_recall.append(recall)\n",
    "    result_precision.append(precision)\n",
    "    print('F1: {} recall: {} precision: {} predictions: {}'.format(f1, recall, precision, sum(predictions)))\n",
    "    #plot_importance(model)\n",
    "\n"
   ]
  },
  {
   "cell_type": "code",
   "execution_count": 126,
   "metadata": {},
   "outputs": [],
   "source": [
    "adv_stats_res = ['player_name', 'year','GP', 'mp', 'pts', '2PA_pg', '2PM_pg', '3PA_pg', '3PM_pg', 'oreb', 'dreb', 'treb',\n",
    "             'ast', 'stl', 'blk', 'ht_in', 'yr_cat', 'bpm', 'obpm', 'dbpm', 'FTA', 'FTM', 'ftr' ,'ATH', 'BBIQ', 'pick', 'drafted', 'pred_pick','pred_prob']"
   ]
  },
  {
   "cell_type": "code",
   "execution_count": 140,
   "metadata": {},
   "outputs": [
    {
     "name": "stdout",
     "output_type": "stream",
     "text": [
      "year 2010\n",
      "F1: 0.4854368932038835 recall: 0.4716981132075472 precision: 0.5 predictions: 50.0\n",
      "year 2011\n"
     ]
    },
    {
     "name": "stderr",
     "output_type": "stream",
     "text": [
      "/Users/leotsang/opt/anaconda3/lib/python3.7/site-packages/ipykernel_launcher.py:41: SettingWithCopyWarning: \n",
      "A value is trying to be set on a copy of a slice from a DataFrame.\n",
      "Try using .loc[row_indexer,col_indexer] = value instead\n",
      "\n",
      "See the caveats in the documentation: https://pandas.pydata.org/pandas-docs/stable/user_guide/indexing.html#returning-a-view-versus-a-copy\n",
      "/Users/leotsang/opt/anaconda3/lib/python3.7/site-packages/ipykernel_launcher.py:42: SettingWithCopyWarning: \n",
      "A value is trying to be set on a copy of a slice from a DataFrame.\n",
      "Try using .loc[row_indexer,col_indexer] = value instead\n",
      "\n",
      "See the caveats in the documentation: https://pandas.pydata.org/pandas-docs/stable/user_guide/indexing.html#returning-a-view-versus-a-copy\n"
     ]
    },
    {
     "name": "stdout",
     "output_type": "stream",
     "text": [
      "F1: 0.5909090909090909 recall: 0.5652173913043478 precision: 0.6190476190476191 predictions: 42.0\n",
      "year 2012\n"
     ]
    },
    {
     "name": "stderr",
     "output_type": "stream",
     "text": [
      "/Users/leotsang/opt/anaconda3/lib/python3.7/site-packages/ipykernel_launcher.py:41: SettingWithCopyWarning: \n",
      "A value is trying to be set on a copy of a slice from a DataFrame.\n",
      "Try using .loc[row_indexer,col_indexer] = value instead\n",
      "\n",
      "See the caveats in the documentation: https://pandas.pydata.org/pandas-docs/stable/user_guide/indexing.html#returning-a-view-versus-a-copy\n",
      "/Users/leotsang/opt/anaconda3/lib/python3.7/site-packages/ipykernel_launcher.py:42: SettingWithCopyWarning: \n",
      "A value is trying to be set on a copy of a slice from a DataFrame.\n",
      "Try using .loc[row_indexer,col_indexer] = value instead\n",
      "\n",
      "See the caveats in the documentation: https://pandas.pydata.org/pandas-docs/stable/user_guide/indexing.html#returning-a-view-versus-a-copy\n"
     ]
    },
    {
     "name": "stdout",
     "output_type": "stream",
     "text": [
      "F1: 0.42105263157894735 recall: 0.37735849056603776 precision: 0.47619047619047616 predictions: 42.0\n",
      "year 2013\n"
     ]
    },
    {
     "name": "stderr",
     "output_type": "stream",
     "text": [
      "/Users/leotsang/opt/anaconda3/lib/python3.7/site-packages/ipykernel_launcher.py:41: SettingWithCopyWarning: \n",
      "A value is trying to be set on a copy of a slice from a DataFrame.\n",
      "Try using .loc[row_indexer,col_indexer] = value instead\n",
      "\n",
      "See the caveats in the documentation: https://pandas.pydata.org/pandas-docs/stable/user_guide/indexing.html#returning-a-view-versus-a-copy\n",
      "/Users/leotsang/opt/anaconda3/lib/python3.7/site-packages/ipykernel_launcher.py:42: SettingWithCopyWarning: \n",
      "A value is trying to be set on a copy of a slice from a DataFrame.\n",
      "Try using .loc[row_indexer,col_indexer] = value instead\n",
      "\n",
      "See the caveats in the documentation: https://pandas.pydata.org/pandas-docs/stable/user_guide/indexing.html#returning-a-view-versus-a-copy\n"
     ]
    },
    {
     "name": "stdout",
     "output_type": "stream",
     "text": [
      "F1: 0.47058823529411764 recall: 0.43478260869565216 precision: 0.5128205128205128 predictions: 39.0\n",
      "year 2014\n"
     ]
    },
    {
     "name": "stderr",
     "output_type": "stream",
     "text": [
      "/Users/leotsang/opt/anaconda3/lib/python3.7/site-packages/ipykernel_launcher.py:41: SettingWithCopyWarning: \n",
      "A value is trying to be set on a copy of a slice from a DataFrame.\n",
      "Try using .loc[row_indexer,col_indexer] = value instead\n",
      "\n",
      "See the caveats in the documentation: https://pandas.pydata.org/pandas-docs/stable/user_guide/indexing.html#returning-a-view-versus-a-copy\n",
      "/Users/leotsang/opt/anaconda3/lib/python3.7/site-packages/ipykernel_launcher.py:42: SettingWithCopyWarning: \n",
      "A value is trying to be set on a copy of a slice from a DataFrame.\n",
      "Try using .loc[row_indexer,col_indexer] = value instead\n",
      "\n",
      "See the caveats in the documentation: https://pandas.pydata.org/pandas-docs/stable/user_guide/indexing.html#returning-a-view-versus-a-copy\n"
     ]
    },
    {
     "name": "stdout",
     "output_type": "stream",
     "text": [
      "F1: 0.5060240963855421 recall: 0.4666666666666667 precision: 0.5526315789473685 predictions: 38.0\n",
      "year 2015\n"
     ]
    },
    {
     "name": "stderr",
     "output_type": "stream",
     "text": [
      "/Users/leotsang/opt/anaconda3/lib/python3.7/site-packages/ipykernel_launcher.py:41: SettingWithCopyWarning: \n",
      "A value is trying to be set on a copy of a slice from a DataFrame.\n",
      "Try using .loc[row_indexer,col_indexer] = value instead\n",
      "\n",
      "See the caveats in the documentation: https://pandas.pydata.org/pandas-docs/stable/user_guide/indexing.html#returning-a-view-versus-a-copy\n",
      "/Users/leotsang/opt/anaconda3/lib/python3.7/site-packages/ipykernel_launcher.py:42: SettingWithCopyWarning: \n",
      "A value is trying to be set on a copy of a slice from a DataFrame.\n",
      "Try using .loc[row_indexer,col_indexer] = value instead\n",
      "\n",
      "See the caveats in the documentation: https://pandas.pydata.org/pandas-docs/stable/user_guide/indexing.html#returning-a-view-versus-a-copy\n"
     ]
    },
    {
     "name": "stdout",
     "output_type": "stream",
     "text": [
      "F1: 0.4444444444444445 recall: 0.3673469387755102 precision: 0.5625 predictions: 32.0\n",
      "year 2016\n"
     ]
    },
    {
     "name": "stderr",
     "output_type": "stream",
     "text": [
      "/Users/leotsang/opt/anaconda3/lib/python3.7/site-packages/ipykernel_launcher.py:41: SettingWithCopyWarning: \n",
      "A value is trying to be set on a copy of a slice from a DataFrame.\n",
      "Try using .loc[row_indexer,col_indexer] = value instead\n",
      "\n",
      "See the caveats in the documentation: https://pandas.pydata.org/pandas-docs/stable/user_guide/indexing.html#returning-a-view-versus-a-copy\n",
      "/Users/leotsang/opt/anaconda3/lib/python3.7/site-packages/ipykernel_launcher.py:42: SettingWithCopyWarning: \n",
      "A value is trying to be set on a copy of a slice from a DataFrame.\n",
      "Try using .loc[row_indexer,col_indexer] = value instead\n",
      "\n",
      "See the caveats in the documentation: https://pandas.pydata.org/pandas-docs/stable/user_guide/indexing.html#returning-a-view-versus-a-copy\n"
     ]
    },
    {
     "name": "stdout",
     "output_type": "stream",
     "text": [
      "F1: 0.44680851063829785 recall: 0.44680851063829785 precision: 0.44680851063829785 predictions: 47.0\n",
      "year 2017\n"
     ]
    },
    {
     "name": "stderr",
     "output_type": "stream",
     "text": [
      "/Users/leotsang/opt/anaconda3/lib/python3.7/site-packages/ipykernel_launcher.py:41: SettingWithCopyWarning: \n",
      "A value is trying to be set on a copy of a slice from a DataFrame.\n",
      "Try using .loc[row_indexer,col_indexer] = value instead\n",
      "\n",
      "See the caveats in the documentation: https://pandas.pydata.org/pandas-docs/stable/user_guide/indexing.html#returning-a-view-versus-a-copy\n",
      "/Users/leotsang/opt/anaconda3/lib/python3.7/site-packages/ipykernel_launcher.py:42: SettingWithCopyWarning: \n",
      "A value is trying to be set on a copy of a slice from a DataFrame.\n",
      "Try using .loc[row_indexer,col_indexer] = value instead\n",
      "\n",
      "See the caveats in the documentation: https://pandas.pydata.org/pandas-docs/stable/user_guide/indexing.html#returning-a-view-versus-a-copy\n"
     ]
    },
    {
     "name": "stdout",
     "output_type": "stream",
     "text": [
      "F1: 0.5599999999999999 recall: 0.5490196078431373 precision: 0.5714285714285714 predictions: 49.0\n",
      "year 2018\n"
     ]
    },
    {
     "name": "stderr",
     "output_type": "stream",
     "text": [
      "/Users/leotsang/opt/anaconda3/lib/python3.7/site-packages/ipykernel_launcher.py:41: SettingWithCopyWarning: \n",
      "A value is trying to be set on a copy of a slice from a DataFrame.\n",
      "Try using .loc[row_indexer,col_indexer] = value instead\n",
      "\n",
      "See the caveats in the documentation: https://pandas.pydata.org/pandas-docs/stable/user_guide/indexing.html#returning-a-view-versus-a-copy\n",
      "/Users/leotsang/opt/anaconda3/lib/python3.7/site-packages/ipykernel_launcher.py:42: SettingWithCopyWarning: \n",
      "A value is trying to be set on a copy of a slice from a DataFrame.\n",
      "Try using .loc[row_indexer,col_indexer] = value instead\n",
      "\n",
      "See the caveats in the documentation: https://pandas.pydata.org/pandas-docs/stable/user_guide/indexing.html#returning-a-view-versus-a-copy\n"
     ]
    },
    {
     "name": "stdout",
     "output_type": "stream",
     "text": [
      "F1: 0.42696629213483145 recall: 0.3584905660377358 precision: 0.5277777777777778 predictions: 36.0\n",
      "year 2019\n"
     ]
    },
    {
     "name": "stderr",
     "output_type": "stream",
     "text": [
      "/Users/leotsang/opt/anaconda3/lib/python3.7/site-packages/ipykernel_launcher.py:41: SettingWithCopyWarning: \n",
      "A value is trying to be set on a copy of a slice from a DataFrame.\n",
      "Try using .loc[row_indexer,col_indexer] = value instead\n",
      "\n",
      "See the caveats in the documentation: https://pandas.pydata.org/pandas-docs/stable/user_guide/indexing.html#returning-a-view-versus-a-copy\n",
      "/Users/leotsang/opt/anaconda3/lib/python3.7/site-packages/ipykernel_launcher.py:42: SettingWithCopyWarning: \n",
      "A value is trying to be set on a copy of a slice from a DataFrame.\n",
      "Try using .loc[row_indexer,col_indexer] = value instead\n",
      "\n",
      "See the caveats in the documentation: https://pandas.pydata.org/pandas-docs/stable/user_guide/indexing.html#returning-a-view-versus-a-copy\n"
     ]
    },
    {
     "name": "stdout",
     "output_type": "stream",
     "text": [
      "F1: 0.4742268041237114 recall: 0.45098039215686275 precision: 0.5 predictions: 46.0\n"
     ]
    },
    {
     "name": "stderr",
     "output_type": "stream",
     "text": [
      "/Users/leotsang/opt/anaconda3/lib/python3.7/site-packages/ipykernel_launcher.py:41: SettingWithCopyWarning: \n",
      "A value is trying to be set on a copy of a slice from a DataFrame.\n",
      "Try using .loc[row_indexer,col_indexer] = value instead\n",
      "\n",
      "See the caveats in the documentation: https://pandas.pydata.org/pandas-docs/stable/user_guide/indexing.html#returning-a-view-versus-a-copy\n",
      "/Users/leotsang/opt/anaconda3/lib/python3.7/site-packages/ipykernel_launcher.py:42: SettingWithCopyWarning: \n",
      "A value is trying to be set on a copy of a slice from a DataFrame.\n",
      "Try using .loc[row_indexer,col_indexer] = value instead\n",
      "\n",
      "See the caveats in the documentation: https://pandas.pydata.org/pandas-docs/stable/user_guide/indexing.html#returning-a-view-versus-a-copy\n"
     ]
    }
   ],
   "source": [
    "#K-Fold Cross Validation\n",
    "\n",
    "years = [2010, 2011, 2012, 2013, 2014, 2015, 2016, 2017, 2018, 2019]\n",
    "pred_prob = []\n",
    "pred_pick = []\n",
    "result_f1 = []\n",
    "result_recall = []\n",
    "result_precision = []\n",
    "\n",
    "writer = pd.ExcelWriter('result_.xlsx')\n",
    "\n",
    "for i in years:\n",
    "    \n",
    "    print('year {}'.format(i))\n",
    "    df_train = df[df['year']!=i]\n",
    "    train = df_train[(df_train['bpm']>= -0.6) & (df_train['pts']>= 3) & (df_train['ht_in']>= 72)] \n",
    "    test = df[df['year']==i]\n",
    "    \n",
    "    model = XGBClassifier()\n",
    "    over = SMOTE(sampling_strategy=0.125)\n",
    "    under = RandomUnderSampler(sampling_strategy=0.125)\n",
    "    steps = [('o', over), ('u', under)]\n",
    "    pipeline = Pipeline(steps=steps)\n",
    "    X, y = pipeline.fit_resample(train[adv_stats], train['drafted'])\n",
    "    model.fit(X, y)\n",
    "    y_pred = model.predict_proba(test[adv_stats])\n",
    "    #pred_prob.append(y_pred)\n",
    "\n",
    "    predictions = [np.round(value[1]) for value in y_pred]\n",
    "    #pred_pick.append(predictions)\n",
    "    #roc_auc = roc_auc_score(test_2019['drafted'], predictions)\n",
    "    f1 = f1_score(test['drafted'], predictions)\n",
    "    recall = recall_score(test['drafted'], predictions)\n",
    "    precision = precision_score(test['drafted'], predictions)\n",
    "    result_f1.append(f1)\n",
    "    result_recall.append(recall)\n",
    "    result_precision.append(precision)\n",
    "    print('F1: {} recall: {} precision: {} predictions: {}'.format(f1, recall, precision, sum(predictions)))\n",
    "    \n",
    "    #add onto sheet\n",
    "    test['pred_prob'] = [value[1] for value in y_pred]\n",
    "    test['pred_pick'] = predictions\n",
    "    res_table = test[adv_stats_res].sort_values('pred_prob', ascending=False)\n",
    "    res_res = res_table[(res_table['pred_pick']== 1) | (res_table['pick']> 0)]\n",
    "    res_res.to_excel(writer, sheet_name = '{}'.format(i))\n",
    "\n",
    "writer.save()\n",
    "    \n",
    "    #plot_importance(model)\n"
   ]
  },
  {
   "cell_type": "code",
   "execution_count": 158,
   "metadata": {},
   "outputs": [
    {
     "name": "stdout",
     "output_type": "stream",
     "text": [
      "predictions 27.0\n"
     ]
    }
   ],
   "source": [
    "###on our eval set\n",
    "\n",
    "years = [2010, 2011, 2012, 2013, 2014, 2015, 2016, 2017, 2018, 2019]\n",
    "pred_prob = []\n",
    "pred_pick = []\n",
    "result_f1 = []\n",
    "result_recall = []\n",
    "result_precision = []\n",
    "\n",
    "writer = pd.ExcelWriter('result_2020_MLP.xlsx')\n",
    "\n",
    "for i in \n",
    "    \n",
    "    #print('year {}'.format(i))\n",
    "    df_train = df\n",
    "    train = df_train[(df_train['bpm']>= -0.6) & (df_train['pts']>= 3) & (df_train['ht_in']>= 72)] \n",
    "    df_eval = df_eval[(df_eval['bpm']>= -0.6) & (df_eval['pts']>= 3) & (df_eval['ht_in']>= 72)] \n",
    "    #test = df[df['year']==i]\n",
    "\n",
    "    model = XGBClassifier()\n",
    "    over = SMOTE(sampling_strategy=0.125)\n",
    "    under = RandomUnderSampler(sampling_strategy=0.125)\n",
    "    steps = [('o', over), ('u', under)]\n",
    "    pipeline = Pipeline(steps=steps)\n",
    "    X, y = pipeline.fit_resample(train[adv_stats], train['drafted'])\n",
    "    model.fit(X, y)\n",
    "    y_pred = model.predict_proba(df_eval[adv_stats])\n",
    "    #pred_prob.append(y_pred)\n",
    "\n",
    "    predictions = [np.round(value[1]) for value in y_pred]\n",
    "    #pred_pick.append(predictions)\n",
    "    #roc_auc = roc_auc_score(test_2019['drafted'], predictions)\n",
    "    #f1 = f1_score(test['drafted'], predictions)\n",
    "    #recall = recall_score(test['drafted'], predictions)\n",
    "    #precision = precision_score(test['drafted'], predictions)\n",
    "    #result_f1.append(f1)\n",
    "    #result_recall.append(recall)\n",
    "    #result_precision.append(precision)\n",
    "    #print('F1: {} recall: {} precision: {} predictions: {}'.format(f1, recall, precision, sum(predictions)))\n",
    "    print('predictions', sum(predictions))\n",
    "    #add onto sheet\n",
    "    df_eval['pred_prob'] = [value[1] for value in y_pred]\n",
    "    df_eval['pred_pick'] = predictions\n",
    "    res_table = df_eval[adv_stats_res].sort_values('pred_prob', ascending=False)\n",
    "    res_res = res_table[(res_table['pred_pick']== 1) | (res_table['pick']> 0)]\n",
    "    res_res.to_excel(writer, sheet_name = '{}'.format(i))\n",
    "\n",
    "writer.save()"
   ]
  },
  {
   "cell_type": "code",
   "execution_count": 142,
   "metadata": {},
   "outputs": [
    {
     "data": {
      "text/plain": [
       "(0.48100940575993917, 0.44748468636752176, 0.5)"
      ]
     },
     "execution_count": 142,
     "metadata": {},
     "output_type": "execute_result"
    }
   ],
   "source": [
    "np.mean(result_f1), np.mean(result_recall), np.mean(precision)"
   ]
  }
 ],
 "metadata": {
  "kernelspec": {
   "display_name": "Python 3",
   "language": "python",
   "name": "python3"
  },
  "language_info": {
   "codemirror_mode": {
    "name": "ipython",
    "version": 3
   },
   "file_extension": ".py",
   "mimetype": "text/x-python",
   "name": "python",
   "nbconvert_exporter": "python",
   "pygments_lexer": "ipython3",
   "version": "3.7.7"
  }
 },
 "nbformat": 4,
 "nbformat_minor": 4
}
